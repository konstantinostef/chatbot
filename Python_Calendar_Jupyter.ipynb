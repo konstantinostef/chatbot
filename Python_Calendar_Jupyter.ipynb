{
 "cells": [
  {
   "cell_type": "code",
   "execution_count": 2,
   "id": "04dc46b0-e18f-4d9d-8ce3-f4cc9315f431",
   "metadata": {},
   "outputs": [
    {
     "name": "stdout",
     "output_type": "stream",
     "text": [
      "* Running on local URL:  http://127.0.0.1:7862\n",
      "\n",
      "To create a public link, set `share=True` in `launch()`.\n"
     ]
    },
    {
     "data": {
      "text/html": [
       "<div><iframe src=\"http://127.0.0.1:7862/\" width=\"100%\" height=\"500\" allow=\"autoplay; camera; microphone; clipboard-read; clipboard-write;\" frameborder=\"0\" allowfullscreen></iframe></div>"
      ],
      "text/plain": [
       "<IPython.core.display.HTML object>"
      ]
     },
     "metadata": {},
     "output_type": "display_data"
    },
    {
     "data": {
      "text/plain": []
     },
     "execution_count": 2,
     "metadata": {},
     "output_type": "execute_result"
    }
   ],
   "source": [
    "import gradio as gr\n",
    "import json\n",
    "from datetime import datetime\n",
    "\n",
    "# Sample events\n",
    "events_data = [\n",
    "    {\"title\": \"Meeting\", \"start\": \"2023-10-10T10:00:00\", \"end\": \"2023-10-10T11:00:00\"},\n",
    "    {\"title\": \"Lunch\", \"start\": \"2023-10-11T12:00:00\", \"end\": \"2023-10-11T13:00:00\"},\n",
    "]\n",
    "\n",
    "# Function to get events\n",
    "def get_events():\n",
    "    return json.dumps(events_data)\n",
    "\n",
    "# Gradio app interface\n",
    "def render_calendar():\n",
    "    return \"\"\"\n",
    "\n",
    "<html lang='en'>\n",
    "<h2>kkk</h2>\n",
    "  <head>\n",
    "    <meta charset='utf-8' />\n",
    "    <script src='https://cdn.jsdelivr.net/npm/fullcalendar@6.1.15/index.global.min.js'></script>\n",
    "    <script>\n",
    "\n",
    "      document.addEventListener('DOMContentLoaded', function() {\n",
    "        var calendarEl = document.getElementById('calendar');\n",
    "        var calendar = new FullCalendar.Calendar(calendarEl, {\n",
    "          initialView: 'dayGridMonth'\n",
    "        });\n",
    "        calendar.render();\n",
    "      });\n",
    "\n",
    "    </script>\n",
    "  </head>\n",
    "  <body>\n",
    "    <div id='calendar'></div>\n",
    "  </body>\n",
    "</html>\n",
    "    \"\"\"\n",
    "\n",
    "# Create the Gradio interface\n",
    "with gr.Blocks() as demo:\n",
    "    gr.Markdown(\"### Event Calendar\")\n",
    "    gr.HTML(render_calendar())\n",
    "\n",
    "# Launch the application\n",
    "demo.launch()"
   ]
  },
  {
   "cell_type": "code",
   "execution_count": null,
   "id": "07be8cd8-5d9d-4606-a6f1-65590ecc14b2",
   "metadata": {},
   "outputs": [],
   "source": [
    "import tkinter as tk\n",
    "from tkcalendar import Calendar\n",
    "from datetime import datetime\n",
    "import sqlite3\n",
    "from IPython.display import display\n",
    "import ipywidgets as widgets\n"
   ]
  },
  {
   "cell_type": "code",
   "execution_count": null,
   "id": "405befb3-39d1-4939-a5cd-3e168141b586",
   "metadata": {},
   "outputs": [],
   "source": [
    "\n",
    "# First, make sure you run this cell to initialize tkinter\n",
    "root = tk.Tk()\n",
    "root.withdraw()  # Hide the main window\n",
    "\n",
    "class CalendarApp:\n",
    "    def __init__(self):\n",
    "        # Create a new window for the calendar\n",
    "        self.window = tk.Toplevel(root)\n",
    "        self.window.title(\"Personal Calendar\")\n",
    "        self.current_view = \"month\"\n",
    "        \n",
    "        # Create main frame\n",
    "        self.main_frame = tk.Frame(self.window)\n",
    "        self.main_frame.pack(padx=10, pady=10, expand=True, fill='both')\n",
    "        \n",
    "        # Create view selection buttons\n",
    "        self.view_frame = tk.Frame(self.main_frame)\n",
    "        self.view_frame.pack(fill='x', pady=(0, 10))\n",
    "        \n",
    "        self.month_btn = tk.Button(self.view_frame, text=\"Month View\", \n",
    "                                 command=lambda: self.change_view(\"month\"))\n",
    "        self.month_btn.pack(side='left', padx=5)\n",
    "        \n",
    "        self.week_btn = tk.Button(self.view_frame, text=\"Week View\", \n",
    "                                command=lambda: self.change_view(\"week\"))\n",
    "        self.week_btn.pack(side='left')\n",
    "        \n",
    "        # Create calendar widget\n",
    "        self.calendar = Calendar(self.main_frame, \n",
    "                               selectmode='day',\n",
    "                               date_pattern='y-mm-dd',\n",
    "                               showweeknumbers=True)\n",
    "        self.calendar.pack(expand=True, fill='both')\n",
    "        \n",
    "        # Create event frame\n",
    "        self.event_frame = tk.Frame(self.main_frame)\n",
    "        self.event_frame.pack(fill='x', pady=10)\n",
    "        \n",
    "        # Event entry\n",
    "        self.event_label = tk.Label(self.event_frame, text=\"Event:\")\n",
    "        self.event_label.pack(side='left')\n",
    "        \n",
    "        self.event_entry = tk.Entry(self.event_frame)\n",
    "        self.event_entry.pack(side='left', padx=5, expand=True, fill='x')\n",
    "        \n",
    "        self.add_button = tk.Button(self.event_frame, text=\"Add Event\", \n",
    "                                  command=self.add_event)\n",
    "        self.add_button.pack(side='left')\n",
    "        \n",
    "        # Initialize database\n",
    "        self.init_db()\n",
    "        \n",
    "        # Bind selection\n",
    "        self.calendar.bind('<<CalendarSelected>>', self.show_events)\n",
    "        \n",
    "        # Set window size\n",
    "        self.window.geometry(\"400x500\")\n",
    "        \n",
    "    def init_db(self):\n",
    "        self.conn = sqlite3.connect('calendar_events.db')\n",
    "        self.cursor = self.conn.cursor()\n",
    "        self.cursor.execute('''\n",
    "            CREATE TABLE IF NOT EXISTS events\n",
    "            (date TEXT, event TEXT)\n",
    "        ''')\n",
    "        self.conn.commit()\n",
    "        \n",
    "    def add_event(self):\n",
    "        date = self.calendar.get_date()\n",
    "        event = self.event_entry.get()\n",
    "        if event:\n",
    "            self.cursor.execute('INSERT INTO events VALUES (?, ?)', (date, event))\n",
    "            self.conn.commit()\n",
    "            self.event_entry.delete(0, 'end')\n",
    "            self.show_events(None)\n",
    "            \n",
    "    def show_events(self, event):\n",
    "        date = self.calendar.get_date()\n",
    "        self.cursor.execute('SELECT event FROM events WHERE date = ?', (date,))\n",
    "        events = self.cursor.fetchall()\n",
    "        # Update UI to show events for selected date\n",
    "        # (Implementation left as exercise)\n",
    "        \n",
    "    def change_view(self, view):\n",
    "        self.current_view = view\n",
    "        if view == \"week\":\n",
    "            self.calendar.configure(showweeknumbers=True)\n",
    "        else:\n",
    "            self.calendar.configure(showweeknumbers=False)\n",
    "\n",
    "# Function to create and show the calendar\n",
    "def show_calendar():\n",
    "    app = CalendarApp()\n",
    "    return app"
   ]
  },
  {
   "cell_type": "code",
   "execution_count": null,
   "id": "316f9de9-cccf-49d7-b7eb-1c909a52ed47",
   "metadata": {},
   "outputs": [],
   "source": [
    "a = show_calendar"
   ]
  },
  {
   "cell_type": "code",
   "execution_count": null,
   "id": "816a8d7a-4019-4166-bece-5f52bc1b2ed2",
   "metadata": {},
   "outputs": [],
   "source": [
    "\n",
    "    "
   ]
  }
 ],
 "metadata": {
  "kernelspec": {
   "display_name": "Python 3 (ipykernel)",
   "language": "python",
   "name": "python3"
  },
  "language_info": {
   "codemirror_mode": {
    "name": "ipython",
    "version": 3
   },
   "file_extension": ".py",
   "mimetype": "text/x-python",
   "name": "python",
   "nbconvert_exporter": "python",
   "pygments_lexer": "ipython3",
   "version": "3.11.11"
  }
 },
 "nbformat": 4,
 "nbformat_minor": 5
}
