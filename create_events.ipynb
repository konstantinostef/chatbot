{
 "cells": [
  {
   "cell_type": "code",
   "execution_count": 1,
   "id": "0d76f058-d371-4ac6-baa0-d032c17b713e",
   "metadata": {},
   "outputs": [
    {
     "name": "stdout",
     "output_type": "stream",
     "text": [
      "prompt in english: \n",
      "9 02 10 02 12 October 2025 i have a doctor appointment\n",
      "data in english: \n",
      "{'summary': 'doctor', 'start': {'dateTime': \"2025-10-12T21:02:00+02:00', 'timeZone':'Eastern European Time',\"}, 'end': {'dateTime': \"2025-10-12T22:02:00+02:00', 'timeZone':'Eastern European Time',\"}}\n",
      "prompt in greek: \n",
      "εννέα και δύο λεπτά εως δέκα και δύο λεπτά έχω ένα ιατρικό ραντεβού με τον κ. Χριστοδούλου 12 Οκτώβρη 2025\n",
      "data in greek: \n",
      "{'summary': 'ιατρικό ραντεβού', 'start': {'dateTime': \"2025-10-12T21:02:00+02:00', 'timeZone':'Eastern European Time',\"}, 'end': {'dateTime': \"2025-10-12T22:02:00+02:00', 'timeZone':'Eastern European Time',\"}}\n",
      "----------------------------------------\n",
      "prompt in english: \n",
      "every Monday and Thursday music lesson from quarter past one pm to quarter past two pm\n",
      "data in english: \n",
      "{'summary': 'music lesson', 'start': {'dateTime': \"2025-02-06T13:15:00+02:00', 'timeZone':'Eastern European Time',\"}, 'end': {'dateTime': \"2025-06-30T14:15:00+02:00', 'timeZone':'Eastern European Time',\"}, 'recurrence': [\"RRULE:{'FREQ': 'WEEKLY', 'BYDAY': ['MO', 'TH'], 'UNTIL': '20250630T000000Z'}\"]}\n",
      "prompt in greek: \n",
      "μάθημα κιθάρας από μία και τέταρτο μετά μεσημβρίας -  ως τις δύο και τέταρτο μετά μεσημβρίας κάθε Δευτέρα και Πέμπτη\n",
      "data in greek: \n",
      "{'summary': 'μάθημα κιθάρας', 'start': {'dateTime': \"2025-02-06T13:15:00+02:00', 'timeZone':'Eastern European Time',\"}, 'end': {'dateTime': \"2025-06-30T14:15:00+02:00', 'timeZone':'Eastern European Time',\"}, 'recurrence': [\"RRULE:{'FREQ': 'WEEKLY', 'BYDAY': ['MO', 'TH'], 'UNTIL': '20250630T000000Z'}\"]}\n",
      "----------------------------------------\n",
      "prompt in english: \n",
      "visit to the hairdresser monthly on the 15 25 minutes past four to 25 minutes past five\n",
      "data in english: \n",
      "{'summary': 'visit to the hairdresser', 'start': {'dateTime': \"2025-02-15T16:25:00+02:00', 'timeZone':'Eastern European Time',\"}, 'end': {'dateTime': \"2025-12-31T17:25:00+02:00', 'timeZone':'Eastern European Time',\"}, 'recurrence': [\"RRULE:{'FREQ': 'MONTHLY', 'BYMONTHDAY': 15, 'UNTIL': '20251231T000000Z'}\"]}\n",
      "prompt in greek: \n",
      "4 και 25 εως 5 και 25 κομμωτήριο κάθε 15 του μηνός\n",
      "data in greek: \n",
      "{'summary': 'κομμωτήριο', 'start': {'dateTime': \"2025-02-15T16:25:00+02:00', 'timeZone':'Eastern European Time',\"}, 'end': {'dateTime': \"2025-12-31T17:25:00+02:00', 'timeZone':'Eastern European Time',\"}, 'recurrence': [\"RRULE:{'FREQ': 'MONTHLY', 'BYMONTHDAY': 15, 'UNTIL': '20251231T000000Z'}\"]}\n",
      "----------------------------------------\n",
      "prompt in english: \n",
      "at 44 past 11 Monday Friday yoga class\n",
      "data in english: \n",
      "{'summary': 'yoga class', 'start': {'dateTime': \"2025-02-07T23:44:00+02:00', 'timeZone':'Eastern European Time',\"}, 'end': {'dateTime': \"2025-06-30T00:44:00+02:00', 'timeZone':'Eastern European Time',\"}, 'recurrence': [\"RRULE:{'FREQ': 'WEEKLY', 'BYDAY': ['MO', 'FR'], 'UNTIL': '20250630T000000Z'}\"]}\n",
      "prompt in greek: \n",
      "στις 11 +44 Δευτέρα Παρασκευή μάθημα γιόγκα\n",
      "data in greek: \n",
      "{'summary': 'μάθημα γιόγκα', 'start': {'dateTime': \"2025-02-07T23:44:00+02:00', 'timeZone':'Eastern European Time',\"}, 'end': {'dateTime': \"2025-06-30T00:44:00+02:00', 'timeZone':'Eastern European Time',\"}, 'recurrence': [\"RRULE:{'FREQ': 'WEEKLY', 'BYDAY': ['MO', 'FR'], 'UNTIL': '20250630T000000Z'}\"]}\n",
      "----------------------------------------\n",
      "prompt in english: \n",
      "from 30 past nine pm until to 30 past ten pm May. 5th 2025 i have a doctor appointment\n",
      "data in english: \n",
      "{'summary': 'doctor', 'start': {'dateTime': \"2025-05-05T21:30:00+02:00', 'timeZone':'Eastern European Time',\"}, 'end': {'dateTime': \"2025-05-05T22:30:00+02:00', 'timeZone':'Eastern European Time',\"}}\n",
      "prompt in greek: \n",
      "από εννέα και 30 μμ -  ως τις δέκα και 30 μμ Μάη. 5 2025 έχω ένα ιατρικό ραντεβού με τον κ. Χριστοδούλου\n",
      "data in greek: \n",
      "{'summary': 'ιατρικό ραντεβού', 'start': {'dateTime': \"2025-05-05T21:30:00+02:00', 'timeZone':'Eastern European Time',\"}, 'end': {'dateTime': \"2025-05-05T22:30:00+02:00', 'timeZone':'Eastern European Time',\"}}\n",
      "----------------------------------------\n"
     ]
    },
    {
     "ename": "TypeError",
     "evalue": "'NoneType' object is not subscriptable",
     "output_type": "error",
     "traceback": [
      "\u001b[1;31m---------------------------------------------------------------------------\u001b[0m",
      "\u001b[1;31mTypeError\u001b[0m                                 Traceback (most recent call last)",
      "Cell \u001b[1;32mIn[1], line 4\u001b[0m\n\u001b[0;32m      1\u001b[0m \u001b[38;5;28;01mfrom\u001b[39;00m \u001b[38;5;21;01mEvent\u001b[39;00m \u001b[38;5;28;01mimport\u001b[39;00m \u001b[38;5;241m*\u001b[39m\n\u001b[0;32m      3\u001b[0m \u001b[38;5;28;01mfor\u001b[39;00m _ \u001b[38;5;129;01min\u001b[39;00m \u001b[38;5;28mrange\u001b[39m(\u001b[38;5;241m10\u001b[39m):\n\u001b[1;32m----> 4\u001b[0m     event \u001b[38;5;241m=\u001b[39m \u001b[43mEvent\u001b[49m\u001b[43m(\u001b[49m\u001b[43m)\u001b[49m\n\u001b[0;32m      5\u001b[0m     data \u001b[38;5;241m=\u001b[39m event\u001b[38;5;241m.\u001b[39mcreate_event()\n\u001b[0;32m      6\u001b[0m     \u001b[38;5;28mprint\u001b[39m(\u001b[38;5;124m\"\u001b[39m\u001b[38;5;124mprompt in english: \u001b[39m\u001b[38;5;124m\"\u001b[39m)\n",
      "File \u001b[1;32m~\\Documents\\projects\\llm_engineering\\chatbot\\Event.py:119\u001b[0m, in \u001b[0;36mEvent.__init__\u001b[1;34m(self)\u001b[0m\n\u001b[0;32m    117\u001b[0m \u001b[38;5;28mself\u001b[39m\u001b[38;5;241m.\u001b[39mend_time_dict \u001b[38;5;241m=\u001b[39m get_end_time(\u001b[38;5;28mself\u001b[39m\u001b[38;5;241m.\u001b[39mtime[\u001b[38;5;124m'\u001b[39m\u001b[38;5;124mtime\u001b[39m\u001b[38;5;124m'\u001b[39m], \u001b[38;5;28mself\u001b[39m\u001b[38;5;241m.\u001b[39mevent[\u001b[38;5;124m'\u001b[39m\u001b[38;5;124men\u001b[39m\u001b[38;5;124m'\u001b[39m][\u001b[38;5;124m'\u001b[39m\u001b[38;5;124mduration\u001b[39m\u001b[38;5;124m'\u001b[39m], \u001b[38;5;28mself\u001b[39m\u001b[38;5;241m.\u001b[39mselected_time_dictionary, \u001b[38;5;28mself\u001b[39m\u001b[38;5;241m.\u001b[39mselected_time_index)\n\u001b[0;32m    118\u001b[0m \u001b[38;5;66;03m#print(self.end_time_dict)\u001b[39;00m\n\u001b[1;32m--> 119\u001b[0m \u001b[38;5;28mself\u001b[39m\u001b[38;5;241m.\u001b[39mend_time \u001b[38;5;241m=\u001b[39m \u001b[38;5;28;43mself\u001b[39;49m\u001b[38;5;241;43m.\u001b[39;49m\u001b[43mend_time_dict\u001b[49m\u001b[43m[\u001b[49m\u001b[38;5;124;43m'\u001b[39;49m\u001b[38;5;124;43mtime\u001b[39;49m\u001b[38;5;124;43m'\u001b[39;49m\u001b[43m]\u001b[49m\n\u001b[0;32m    120\u001b[0m \u001b[38;5;66;03m#print(self.end_time)\u001b[39;00m\n\u001b[0;32m    121\u001b[0m \u001b[38;5;66;03m# According to event's data create rrule. Also picks random recurring days. Single events don't have rrule at all.\u001b[39;00m\n\u001b[0;32m    122\u001b[0m \u001b[38;5;28mself\u001b[39m\u001b[38;5;241m.\u001b[39mrrule \u001b[38;5;241m=\u001b[39m \u001b[38;5;28mself\u001b[39m\u001b[38;5;241m.\u001b[39mcreate_rrule()\n",
      "\u001b[1;31mTypeError\u001b[0m: 'NoneType' object is not subscriptable"
     ]
    }
   ],
   "source": [
    "from Event import *\n",
    "\n",
    "for _ in range(10):\n",
    "    event = Event()\n",
    "    data = event.create_event()\n",
    "    print(\"prompt in english: \")\n",
    "    print(event.prompt['en'])\n",
    "    print(\"data in english: \")\n",
    "    print(data['en'])\n",
    "    print(\"prompt in greek: \")\n",
    "    print(event.prompt['gr'])\n",
    "    print(\"data in greek: \")\n",
    "    print(data['gr'])\n",
    "    print(40*\"-\")"
   ]
  },
  {
   "cell_type": "code",
   "execution_count": null,
   "id": "8104dc14-4061-464b-9028-a7c521e5bde8",
   "metadata": {},
   "outputs": [],
   "source": []
  }
 ],
 "metadata": {
  "kernelspec": {
   "display_name": "Python 3 (ipykernel)",
   "language": "python",
   "name": "python3"
  },
  "language_info": {
   "codemirror_mode": {
    "name": "ipython",
    "version": 3
   },
   "file_extension": ".py",
   "mimetype": "text/x-python",
   "name": "python",
   "nbconvert_exporter": "python",
   "pygments_lexer": "ipython3",
   "version": "3.11.11"
  }
 },
 "nbformat": 4,
 "nbformat_minor": 5
}
