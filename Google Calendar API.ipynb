{
 "cells": [
  {
   "cell_type": "code",
   "execution_count": 1,
   "id": "49747cf7-1387-4248-81a2-70a023d90333",
   "metadata": {},
   "outputs": [],
   "source": [
    "import os.path\n",
    "import datetime\n",
    "from google.auth.transport.requests import Request\n",
    "from google.oauth2.credentials import Credentials\n",
    "from google_auth_oauthlib.flow import InstalledAppFlow\n",
    "from googleapiclient.discovery import build\n",
    "from googleapiclient.errors import HttpError\n",
    "\n",
    "SCOPES=[\"https://www.googleapis.com/auth/calendar\"]"
   ]
  },
  {
   "cell_type": "code",
   "execution_count": 7,
   "id": "5db51659-6241-4bf8-92f4-5f2175eab0d2",
   "metadata": {},
   "outputs": [
    {
     "name": "stdout",
     "output_type": "stream",
     "text": [
      "An error occurred: <HttpError 400 when requesting https://www.googleapis.com/calendar/v3/calendars/primary/events?alt=json returned \"Missing end time.\". Details: \"[{'domain': 'global', 'reason': 'required', 'message': 'Missing end time.'}]\">\n"
     ]
    }
   ],
   "source": [
    "creds = None\n",
    "if os.path.exists(\"token.json\"):\n",
    "    creds = Credentials.from_authorized_user_file(\"token.json\", SCOPES)\n",
    "if not creds or not creds.valid:\n",
    "    if creds and creds.expired and creds.refresh_token:\n",
    "        creds.refresh(Request())\n",
    "    else:\n",
    "      flow = InstalledAppFlow.from_client_secrets_file(\n",
    "          \"google_desktop_credentials.json\", SCOPES\n",
    "      )\n",
    "      creds = flow.run_local_server(port=0)\n",
    "    # Save the credentials for the next run\n",
    "    with open(\"token.json\", \"w\") as token:\n",
    "      token.write(creds.to_json())\n",
    "\n",
    "try:\n",
    "    service = build(\"calendar\", \"v3\", credentials=creds)\n",
    "    # Create event\n",
    "    event = {\n",
    "        \"summary\" : \"My event\",\n",
    "        \"location\" : \"Patras\",\n",
    "        \"description\" : \"My event is awesome\",\n",
    "        \"colorId\" : 6,\n",
    "        \"start\" : {\n",
    "            \"dateTime\":\"2025-02-09T21:18:00+02:00\",\n",
    "            \"timeZone\":\"Europe/Athens\"\n",
    "        },\n",
    "        \"end\" : {\n",
    "            \"dateTime\":\"2025-02-09T21:50:00+02:00\",\n",
    "            \"timeZone\":\"Europe/Athens\"\n",
    "        },\n",
    "        \"recurrence\" : [\n",
    "            \"RRULE:FREQ=DAILY;COUNT=3\"\n",
    "        ]\n",
    "    }\n",
    "    event = \"\"\n",
    "    event = service.events().insert(calendarId=\"primary\", body=event).execute()\n",
    "    # End of event creation\n",
    "    # Call the Calendar API - Get 10 events\n",
    "    now = datetime.datetime.utcnow().isoformat() + \"Z\"  # 'Z' indicates UTC time\n",
    "    print(\"Getting the upcoming 10 events\")\n",
    "    events_result = (\n",
    "        service.events()\n",
    "        .list(\n",
    "            calendarId=\"primary\",\n",
    "            timeMin=now,\n",
    "            maxResults=10,\n",
    "            singleEvents=True,\n",
    "            orderBy=\"startTime\",\n",
    "        )\n",
    "        .execute()\n",
    "    )\n",
    "    events = events_result.get(\"items\", [])\n",
    "\n",
    "    if not events:\n",
    "      print(\"No upcoming events found.\")\n",
    "\n",
    "    # Prints the start and name of the next 10 events\n",
    "    for event in events:\n",
    "      start = event[\"start\"].get(\"dateTime\", event[\"start\"].get(\"date\"))\n",
    "      print(start, event[\"summary\"])\n",
    "        \n",
    "except HttpError as error:\n",
    "    print(f\"An error occurred: {error}\")"
   ]
  },
  {
   "cell_type": "code",
   "execution_count": null,
   "id": "58b86937-44f4-469f-a3e2-75522a3db57e",
   "metadata": {},
   "outputs": [],
   "source": []
  },
  {
   "cell_type": "code",
   "execution_count": null,
   "id": "1420b7a0-17d9-4579-870b-7b921294bc10",
   "metadata": {},
   "outputs": [],
   "source": []
  }
 ],
 "metadata": {
  "kernelspec": {
   "display_name": "Python 3 (ipykernel)",
   "language": "python",
   "name": "python3"
  },
  "language_info": {
   "codemirror_mode": {
    "name": "ipython",
    "version": 3
   },
   "file_extension": ".py",
   "mimetype": "text/x-python",
   "name": "python",
   "nbconvert_exporter": "python",
   "pygments_lexer": "ipython3",
   "version": "3.11.11"
  }
 },
 "nbformat": 4,
 "nbformat_minor": 5
}
