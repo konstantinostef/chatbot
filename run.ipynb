{
 "cells": [
  {
   "cell_type": "code",
   "execution_count": 1,
   "id": "55aabf2b-5675-4898-af6d-b37673a8e53b",
   "metadata": {},
   "outputs": [
    {
     "name": "stdout",
     "output_type": "stream",
     "text": [
      "start date  2025-10-18\n",
      "prompt in english: \n",
      "meeting with the principal every year at 18 of October\n",
      "data in english: \n",
      "('{\"summary\": \"meeting with the principal\", \"start\": '\n",
      " '{\"dateTime\": \"2025-10-18T10:15:00+02:00\", \"timeZone\": '\n",
      " '\"Europe/Athens\"}, \"end\": {\"dateTime\": '\n",
      " '\"2030-01-01T12:15:00+02:00\", \"timeZone\": '\n",
      " '\"Europe/Athens\"}, \"recurrence\": '\n",
      " '[\"RRULE:FREQ=YEARLY;BYMONTH=10;BYMONTHDAY=18;UNTIL=20300101T000000Z\"]}')\n",
      "----------------------------------------\n",
      "----------------------------------------\n",
      "----------------------------------------\n",
      "Ollama local (llama3.2): \n",
      "----------------------------------------\n",
      "* Running on local URL:  http://127.0.0.1:7862\n",
      "\n",
      "To create a public link, set `share=True` in `launch()`.\n"
     ]
    },
    {
     "data": {
      "text/html": [
       "<div><iframe src=\"http://127.0.0.1:7862/\" width=\"100%\" height=\"500\" allow=\"autoplay; camera; microphone; clipboard-read; clipboard-write;\" frameborder=\"0\" allowfullscreen></iframe></div>"
      ],
      "text/plain": [
       "<IPython.core.display.HTML object>"
      ]
     },
     "metadata": {},
     "output_type": "display_data"
    },
    {
     "data": {
      "text/plain": []
     },
     "execution_count": 1,
     "metadata": {},
     "output_type": "execute_result"
    }
   ],
   "source": [
    "# imports\n",
    "from Testing import test\n",
    "from Event import *\n",
    "from llmWrappers.openai_wrapper import getOpenAIResponse, chat\n",
    "from llmWrappers.ollama_wrapper import askOllama\n",
    "from llmWrappers.claude_wrapper import displayClaudeResponse\n",
    "from llmWrappers.deepseek_wrapper import displayDeepSeekResponse\n",
    "\n",
    "import json\n",
    "import pprint\n",
    "import gradio as gr\n",
    "\n",
    "for _ in range(1):\n",
    "    event = Event()\n",
    "    data = event.create_event()\n",
    "    print(\"prompt in english: \")\n",
    "    print(event.prompt['en'])\n",
    "    print(\"data in english: \")\n",
    "    pprint.pprint(json.dumps(data['en']), width=60)\n",
    "    #event.prompt['en'] = \"Βάλε ένα μάθημα γαλλικών κάθε Τρίτη 4 μιση κ κάθε Πέμπτη 6:30 για 1 ώρα μέχρι τέλος Ιουνίου\"\n",
    "    print(40*\"-\")\n",
    "    \n",
    "    #print(\"OpenAI: \")\n",
    "    #getOpenAIResponse(event.prompt['en'])\n",
    "    print(40*\"-\")\n",
    "    \n",
    "    #print(\"Claude: \")\n",
    "    #displayClaudeResponse(event.prompt['en'])\n",
    "    print(40*\"-\")\n",
    "\n",
    "    #print(\"DeepSeek: \")\n",
    "    #displayDeepSeekResponse(event.prompt['en'])\n",
    "    #print(40*\"-\")\n",
    "    \n",
    "    print(\"Ollama local (llama3.2): \")\n",
    "    #askOllama(event.prompt['en'])\n",
    "    #print(\"prompt in greek: \")\n",
    "    #print(event.prompt['gr'])\n",
    "    #print(\"data in greek: \")\n",
    "    #print(data['gr'])\n",
    "    print(40*\"-\")\n",
    "\n",
    "\n",
    "#gr.ChatInterface(fn=chat, type=\"messages\").launch(share=True) #Live chatbot\n",
    "gr.ChatInterface(fn=chat, type=\"messages\").launch()"
   ]
  },
  {
   "cell_type": "code",
   "execution_count": null,
   "id": "857d87e0-365e-415d-81e1-d698caa08911",
   "metadata": {},
   "outputs": [],
   "source": []
  }
 ],
 "metadata": {
  "kernelspec": {
   "display_name": "Python 3 (ipykernel)",
   "language": "python",
   "name": "python3"
  },
  "language_info": {
   "codemirror_mode": {
    "name": "ipython",
    "version": 3
   },
   "file_extension": ".py",
   "mimetype": "text/x-python",
   "name": "python",
   "nbconvert_exporter": "python",
   "pygments_lexer": "ipython3",
   "version": "3.11.11"
  }
 },
 "nbformat": 4,
 "nbformat_minor": 5
}
