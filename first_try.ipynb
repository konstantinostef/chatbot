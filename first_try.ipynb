{
 "cells": [
  {
   "cell_type": "code",
   "execution_count": 2,
   "id": "f5ac9801-8fc6-4786-8d6f-ae50b253ec91",
   "metadata": {},
   "outputs": [
    {
     "name": "stdout",
     "output_type": "stream",
     "text": [
      "start date  2025-06-21\n",
      "prompt in english: \n",
      "meeting with the principal every year at 21 of June\n",
      "data in english: \n",
      "{'summary': 'meeting with the principal', 'start': {'dateTime': '2025-06-21T19:31:00+02:00', 'timeZone': 'UTC'}, 'end': {'dateTime': '2025-06-21T21:31:00+02:00', 'timeZone': 'UTC'}, 'recurrence': ['RRULE:FREQ=YEARLY;BYMONTH=6;BYMONTHDAY=21;UNTIL=20300101T000000Z']}\n",
      "OpenAI: \n",
      "gpt json:  {\n",
      "  \"summary\": \"meeting with the principal\",\n",
      "  \"start\": {\n",
      "    \"dateTime\": \"2025-06-21T09:00:00+02:00\",\n",
      "    \"timeZone\": \"UTC\"\n",
      "  },\n",
      "  \"end\": {\n",
      "    \"dateTime\": \"2025-06-21T10:00:00+02:00\",\n",
      "    \"timeZone\": \"UTC\"\n",
      "  },\n",
      "  \"recurrence\": [\"RRULE:FREQ=YEARLY;BYMONTH=6;BYMONTHDAY=21\"]\n",
      "}\n"
     ]
    }
   ],
   "source": [
    "# imports\n",
    "from Testing import test\n",
    "from Event import *\n",
    "from llmWrappers.openai_wrapper import askOpenAI, getOpenAIResponse, chat\n",
    "from llmWrappers.ollama_wrapper import askOllama\n",
    "from llmWrappers.claude_wrapper import displayClaudeResponse\n",
    "from llmWrappers.deepseek_wrapper import displayDeepSeekResponse\n",
    "\n",
    "import json\n",
    "import pprint\n",
    "import gradio as gr\n",
    "import os.path\n",
    "import datetime\n",
    "from google.auth.transport.requests import Request\n",
    "from google.oauth2.credentials import Credentials\n",
    "from google_auth_oauthlib.flow import InstalledAppFlow\n",
    "from googleapiclient.discovery import build\n",
    "from googleapiclient.errors import HttpError\n",
    "\n",
    "SCOPES=[\"https://www.googleapis.com/auth/calendar\"]\n",
    "\n",
    "event = Event()\n",
    "data = event.create_event()\n",
    "print(\"prompt in english: \")\n",
    "print(event.prompt['en'])\n",
    "print(\"data in english: \")\n",
    "print(data['en'])\n",
    "print(\"OpenAI: \")\n",
    "gpt_json = askOpenAI(event.prompt['en'])\n",
    "\n",
    "print(\"gpt json: \", gpt_json)\n",
    "\n",
    "creds = None\n",
    "if os.path.exists(\"token.json\"):\n",
    "    creds = Credentials.from_authorized_user_file(\"token.json\", SCOPES)\n",
    "if not creds or not creds.valid:\n",
    "    if creds and creds.expired and creds.refresh_token:\n",
    "        creds.refresh(Request())\n",
    "    else:\n",
    "      flow = InstalledAppFlow.from_client_secrets_file(\n",
    "          \"google_desktop_credentials.json\", SCOPES\n",
    "      )\n",
    "      creds = flow.run_local_server(port=0)\n",
    "    # Save the credentials for the next run\n",
    "    with open(\"token.json\", \"w\") as token:\n",
    "      token.write(creds.to_json())\n",
    "        \n",
    "try:\n",
    "    \n",
    "    service = build(\"calendar\", \"v3\", credentials=creds)\n",
    "    # Create event\n",
    "    event = service.events().insert(calendarId=\"primary\", body=json.loads(gpt_json)).execute()\n",
    "except HttpError as error:\n",
    "    print(f\"An error occurred: {error}\")"
   ]
  },
  {
   "cell_type": "code",
   "execution_count": null,
   "id": "f5209d86-531a-4102-a948-58615717cfdb",
   "metadata": {},
   "outputs": [],
   "source": []
  }
 ],
 "metadata": {
  "kernelspec": {
   "display_name": "Python 3 (ipykernel)",
   "language": "python",
   "name": "python3"
  },
  "language_info": {
   "codemirror_mode": {
    "name": "ipython",
    "version": 3
   },
   "file_extension": ".py",
   "mimetype": "text/x-python",
   "name": "python",
   "nbconvert_exporter": "python",
   "pygments_lexer": "ipython3",
   "version": "3.11.11"
  }
 },
 "nbformat": 4,
 "nbformat_minor": 5
}
