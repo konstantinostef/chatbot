{
 "cells": [
  {
   "cell_type": "code",
   "execution_count": 1,
   "id": "27b28157-ca8e-46a0-8a6c-94a1f325a16d",
   "metadata": {},
   "outputs": [
    {
     "name": "stdout",
     "output_type": "stream",
     "text": [
      "API key found and looks good so far!\n"
     ]
    }
   ],
   "source": [
    "# imports\n",
    "\n",
    "import os\n",
    "import requests\n",
    "from dotenv import load_dotenv\n",
    "from IPython.display import Markdown, display\n",
    "from openai import OpenAI\n",
    "from Event import *\n",
    "\n",
    "# Load environment variables in a file called .env\n",
    "\n",
    "load_dotenv()\n",
    "api_key = os.getenv('OPENAI_API_KEY')\n",
    "\n",
    "# Check the key\n",
    "\n",
    "if not api_key:\n",
    "    print(\"No API key was found - please head over to the troubleshooting notebook in this folder to identify & fix!\")\n",
    "elif not api_key.startswith(\"sk-proj-\"):\n",
    "    print(\"An API key was found, but it doesn't start sk-proj-; please check you're using the right key - see troubleshooting notebook\")\n",
    "elif api_key.strip() != api_key:\n",
    "    print(\"An API key was found, but it looks like it might have space or tab characters at the start or end - please remove them - see troubleshooting notebook\")\n",
    "else:\n",
    "    print(\"API key found and looks good so far!\")\n",
    "\n",
    "openai = OpenAI()\n",
    "\n",
    "# Define our system prompt - you can experiment with this later, changing the last sentence to 'Respond in markdown in Spanish.\"\n",
    "\n",
    "system_prompt = \"\"\"\n",
    "You are an entity extractor. When one asks you to create an event for him, you extract entities as start datetime, end datetime, summary, recurrence.\n",
    "You answer only with a json built on the structure of a Google Calendar event. No explanation. No other words.\n",
    "\"\"\"\n",
    "\n",
    "\n",
    "def getUserPrompt(user_prompt):\n",
    "    prompt = \"You are an assistant that creates Google Calendar Events. Given this prompt:\\n\"\n",
    "    prompt += user_prompt\n",
    "    prompt += \"\\n you are supposed to return nothing else but a json formatted as a Google Calendar Event with the data given to the prompt.\"\n",
    "    prompt += \"\\n If some crucial data is missing ask for it.\"\n",
    "    return prompt\n",
    "    \n",
    "\n",
    "def getMessages(user_prompt):\n",
    "    return [\n",
    "        {\"role\": \"system\", \"content\": system_prompt},\n",
    "        {\"role\": \"user\", \"content\": getUserPrompt(user_prompt)}\n",
    "    ]\n",
    "\n",
    "# And now: call the OpenAI API. You will get very familiar with this!\n",
    "\n",
    "def askOpenAI(user_prompt):\n",
    "    response = openai.chat.completions.create(\n",
    "        model = \"gpt-o1\",\n",
    "        messages = getMessages(user_prompt)\n",
    "    )\n",
    "    return response.choices[0].message.content\n",
    "\n",
    "# A function to display this nicely in the Jupyter output, using markdown\n",
    "\n",
    "def getOpenAIResponse(user_prompt):\n",
    "    response = askOpenAI(user_prompt)\n",
    "    display(response)\n"
   ]
  },
  {
   "cell_type": "code",
   "execution_count": 2,
   "id": "9136b825-4346-471b-973b-45b41551dca7",
   "metadata": {},
   "outputs": [
    {
     "name": "stdout",
     "output_type": "stream",
     "text": [
      "You are an assistant that creates Google Calendar Events. Given this prompt:\n",
      "24 to 11 parent-teacher meeting every 13 of each month\n",
      " you are supposed to return nothing else but a json formatted as a Google Calendar Event with the data given to the prompt.\n",
      " If some crucial data is missing ask for it.\n",
      "You are an assistant that creates Google Calendar Events. Given this prompt:\n",
      "11 παρά εικοσιτέσσερα κάθε μήνα στις 13 συνάντηση γονέων-καθηγητών\n",
      " you are supposed to return nothing else but a json formatted as a Google Calendar Event with the data given to the prompt.\n",
      " If some crucial data is missing ask for it.\n"
     ]
    }
   ],
   "source": [
    "event = Event()\n",
    "correct_response = event.create_event()\n",
    "print(getUserPrompt(event.prompt['en']))\n",
    "print(getUserPrompt(event.prompt['gr']))\n"
   ]
  },
  {
   "cell_type": "code",
   "execution_count": 3,
   "id": "28f9afc3-ea25-46fc-a3fd-890666a67cdc",
   "metadata": {},
   "outputs": [
    {
     "data": {
      "text/plain": [
       "'{\\n  \"start\": {\\n    \"dateTime\": \"2023-11-13T00:00:00\",\\n    \"timeZone\": \"UTC\"\\n  },\\n  \"end\": {\\n    \"dateTime\": \"2023-11-13T01:00:00\",\\n    \"timeZone\": \"UTC\"\\n  },\\n  \"summary\": \"Parent-Teacher Meeting\",\\n  \"recurrence\": [\\n    \"RRULE:FREQ=MONTHLY;BYMONTHDAY=13\"\\n  ]\\n}'"
      ]
     },
     "metadata": {},
     "output_type": "display_data"
    }
   ],
   "source": [
    "getOpenAIResponse(event.prompt['en'])"
   ]
  },
  {
   "cell_type": "code",
   "execution_count": 4,
   "id": "90065490-e86b-4add-bfd3-85534d0c8d75",
   "metadata": {},
   "outputs": [
    {
     "data": {
      "text/plain": [
       "{'summary': 'parent-teacher meeting',\n",
       " 'start': {'dateTime': \"2025-02-13T10:36:00+02:00', 'timeZone':'Eastern European Time',\"},\n",
       " 'end': {'dateTime': \"2025-12-31T12:36:00+02:00', 'timeZone':'Eastern European Time',\"},\n",
       " 'recurrence': [\"RRULE:{'FREQ': 'MONTHLY', 'BYMONTHDAY': 13, 'UNTIL': '20251231T000000Z'}\"]}"
      ]
     },
     "metadata": {},
     "output_type": "display_data"
    }
   ],
   "source": [
    "display(correct_response['en']) # 4-o-mini"
   ]
  },
  {
   "cell_type": "code",
   "execution_count": 5,
   "id": "aa6cca2c-f083-4b19-8926-af377dc537f8",
   "metadata": {},
   "outputs": [
    {
     "data": {
      "text/plain": [
       "'```json\\n{\\n  \"start\": {\\n    \"dateTime\": \"2023-11-11T11:36:00+00:00\"\\n  },\\n  \"end\": {\\n    \"dateTime\": \"2023-11-11T12:36:00+00:00\"\\n  },\\n  \"summary\": \"Συνάντηση γονέων-καθηγητών\",\\n  \"recurrence\": [\\n    \"RRULE:FREQ=MONTHLY;BYMONTHDAY=13\"\\n  ]\\n}\\n```'"
      ]
     },
     "metadata": {},
     "output_type": "display_data"
    }
   ],
   "source": [
    "getOpenAIResponse(event.prompt['gr'])"
   ]
  },
  {
   "cell_type": "code",
   "execution_count": 6,
   "id": "6abdc3de-fe88-4506-8238-8bab663fb45d",
   "metadata": {},
   "outputs": [
    {
     "data": {
      "text/plain": [
       "'```json\\n{\\n  \"start\": {\\n    \"dateTime\": \"2023-11-24T00:00:00\",\\n    \"timeZone\": \"UTC\"\\n  },\\n  \"end\": {\\n    \"dateTime\": \"2023-11-24T01:00:00\",\\n    \"timeZone\": \"UTC\"\\n  },\\n  \"summary\": \"Parent-Teacher Meeting\",\\n  \"recurrence\": [\\n    \"RRULE:FREQ=MONTHLY;BYMONTHDAY=13\"\\n  ]\\n}\\n```'"
      ]
     },
     "metadata": {},
     "output_type": "display_data"
    }
   ],
   "source": [
    "getOpenAIResponse(event.prompt['en']) # 4-o"
   ]
  },
  {
   "cell_type": "code",
   "execution_count": 7,
   "id": "bff39550-69dd-40c6-ba15-5ec3919d1c55",
   "metadata": {},
   "outputs": [
    {
     "data": {
      "text/plain": [
       "'```json\\n{\\n  \"start\": {\\n    \"dateTime\": \"2023-11-11T11:36:00\",\\n    \"timeZone\": \"UTC\"\\n  },\\n  \"end\": {\\n    \"dateTime\": \"2023-11-11T12:36:00\",\\n    \"timeZone\": \"UTC\"\\n  },\\n  \"summary\": \"Συνάντηση γονέων-καθηγητών\",\\n  \"recurrence\": \"RRULE:FREQ=MONTHLY;BYMONTHDAY=11\"\\n}\\n```'"
      ]
     },
     "metadata": {},
     "output_type": "display_data"
    }
   ],
   "source": [
    "getOpenAIResponse(event.prompt['gr'])"
   ]
  },
  {
   "cell_type": "code",
   "execution_count": 8,
   "id": "baaaa983-6914-4467-8ee3-a05f5f5b3f57",
   "metadata": {},
   "outputs": [
    {
     "data": {
      "text/plain": [
       "'```json\\n{\\n  \"start\": {\\n    \"dateTime\": \"2023-11-24T09:00:00\",\\n    \"timeZone\": \"UTC\"\\n  },\\n  \"end\": {\\n    \"dateTime\": \"2023-11-24T10:00:00\",\\n    \"timeZone\": \"UTC\"\\n  },\\n  \"summary\": \"Parent-Teacher Meeting\",\\n  \"recurrence\": [\\n    \"RRULE:FREQ=MONTHLY;BYMONTHDAY=13\"\\n  ]\\n}\\n```'"
      ]
     },
     "metadata": {},
     "output_type": "display_data"
    }
   ],
   "source": [
    "getOpenAIResponse(event.prompt['en']) # o1"
   ]
  },
  {
   "cell_type": "code",
   "execution_count": 9,
   "id": "8badaab2-97cb-4d89-8d0c-159b186056e5",
   "metadata": {},
   "outputs": [
    {
     "data": {
      "text/plain": [
       "'```json\\n{\\n  \"summary\": \"Συνάντηση γονέων-καθηγητών\",\\n  \"start\": {\\n    \"dateTime\": \"2023-11-11T11:36:00\",\\n    \"timeZone\": \"Europe/Athens\"\\n  },\\n  \"end\": {\\n    \"dateTime\": \"2023-11-11T12:36:00\",\\n    \"timeZone\": \"Europe/Athens\"\\n  },\\n  \"recurrence\": [\\n    \"RRULE:FREQ=MONTHLY;BYMONTHDAY=13\"\\n  ]\\n}\\n```'"
      ]
     },
     "metadata": {},
     "output_type": "display_data"
    }
   ],
   "source": [
    "getOpenAIResponse(event.prompt['gr'])"
   ]
  },
  {
   "cell_type": "code",
   "execution_count": null,
   "id": "546c904e-3ad1-40dd-9d73-104a8e0909c9",
   "metadata": {},
   "outputs": [],
   "source": []
  }
 ],
 "metadata": {
  "kernelspec": {
   "display_name": "Python 3 (ipykernel)",
   "language": "python",
   "name": "python3"
  },
  "language_info": {
   "codemirror_mode": {
    "name": "ipython",
    "version": 3
   },
   "file_extension": ".py",
   "mimetype": "text/x-python",
   "name": "python",
   "nbconvert_exporter": "python",
   "pygments_lexer": "ipython3",
   "version": "3.11.11"
  }
 },
 "nbformat": 4,
 "nbformat_minor": 5
}
