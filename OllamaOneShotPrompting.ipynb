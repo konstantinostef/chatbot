{
 "cells": [
  {
   "cell_type": "code",
   "execution_count": 4,
   "id": "27b28157-ca8e-46a0-8a6c-94a1f325a16d",
   "metadata": {},
   "outputs": [],
   "source": [
    "# imports\n",
    "import requests\n",
    "from Event import *\n",
    "from IPython.display import Markdown, display\n",
    "\n",
    "# Constants\n",
    "\n",
    "OLLAMA_API = \"http://localhost:11434/api/chat\"\n",
    "HEADERS = {\"Content-Type\": \"application/json\"}\n",
    "MODEL = \"llama3.2\"\n",
    "\n",
    "system_prompt = \"\"\"\n",
    "You are an assistant working as an entity extractor. When one asks you to create an event for him, you extract entities as start datetime,\n",
    "end datetime, summary, recurrence.\n",
    "You answer only with a json built on the structure of a Google Calendar event. No explanation. No other words.\n",
    "For example if prompt says:\\n\n",
    "dance lesson from 30 past ten pm to to 30 past eleven pm every Tuesday, Friday and Saturday\\n\n",
    "you respond:\\n\n",
    "{'summary': 'dance lesson', 'start': {'dateTime': \"2025-02-07T22:30:00+02:00', 'timeZone':'Eastern European Time',\"}, 'end': {'dateTime': \"2025-06-30T23:30:00+02:00', 'timeZone':'Eastern European Time',\"}, 'recurrence': ['RRULE:FREQ=WEEKLY;BYDAY=TU,FR,SA;UNTIL=20250630T000000Z']}\n",
    "Start date of the event will be the first day after today.\n",
    "\n",
    "\"\"\"\n",
    "\n",
    "def getUserPrompt(user_prompt):\n",
    "    prompt = \"You are an assistant that creates Google Calendar events. Given this prompt:\\n\"\n",
    "    prompt += user_prompt\n",
    "    prompt += \"\\n you are supposed to return nothing else but a json formatted as a Google Calendar Event with the data given to the prompt.\"\n",
    "    prompt += \"\\n If some crucial data is missing ask for it.\"\n",
    "    return prompt\n",
    "\n",
    "def getMessages(user_prompt):\n",
    "    return [\n",
    "        {\"role\": \"system\", \"content\": system_prompt},\n",
    "        {\"role\": \"user\", \"content\": getUserPrompt(user_prompt)}\n",
    "    ]\n",
    "\n",
    "def askOllama(user_prompt):\n",
    "    MODEL = \"Llama3.2\"\n",
    "    # first approach using requests library\n",
    "    payload = {\n",
    "        \"model\": MODEL,\n",
    "        \"messages\": getMessages(user_prompt),\n",
    "        \"stream\": False\n",
    "    }\n",
    "    response = requests.post(OLLAMA_API, json=payload, headers=HEADERS)\n",
    "    #print(response.json()['message']['content'])\n",
    "    display(response.json()['message']['content'])\n",
    "\n"
   ]
  },
  {
   "cell_type": "code",
   "execution_count": 5,
   "id": "9136b825-4346-471b-973b-45b41551dca7",
   "metadata": {},
   "outputs": [
    {
     "name": "stdout",
     "output_type": "stream",
     "text": [
      "You are an assistant that creates Google Calendar events. Given this prompt:\n",
      "yoga class from 3 minutes to 4 until to 3 minutes to 5 Monday Thursday\n",
      " you are supposed to return nothing else but a json formatted as a Google Calendar Event with the data given to the prompt.\n",
      " If some crucial data is missing ask for it.\n",
      "You are an assistant that creates Google Calendar events. Given this prompt:\n",
      "μάθημα γιόγκα Δευτέρα Πέμπτη από τέσσερις παρά 3 -  ως τις πέντε παρά 3\n",
      " you are supposed to return nothing else but a json formatted as a Google Calendar Event with the data given to the prompt.\n",
      " If some crucial data is missing ask for it.\n"
     ]
    }
   ],
   "source": [
    "event = Event()\n",
    "correct_response = event.create_event()\n",
    "print(getUserPrompt(event.prompt['en']))\n",
    "print(getUserPrompt(event.prompt['gr']))\n"
   ]
  },
  {
   "cell_type": "code",
   "execution_count": 6,
   "id": "28f9afc3-ea25-46fc-a3fd-890666a67cdc",
   "metadata": {},
   "outputs": [
    {
     "data": {
      "text/plain": [
       "'{\\n  \"summary\": \"γιόγκα\",\\n  \"start\": {\\n    \"dateTime\": \"2025-02-08T15:00:00+02:00\",\\n    \"timeZone\": \"Eastern European Time\"\\n  },\\n  \"end\": {\\n    \"dateTime\": \"2025-06-30T17:03:00+02:00\",\\n    \"timeZone\": \"Eastern European Time\"\\n  },\\n  \"recurrence\": [\\n    \"RRULE:FREQ=WEEKLY;BYDAY=MO,TU,WE,TH,FR;UNTIL=20250630T000000Z\"\\n  ]\\n}'"
      ]
     },
     "metadata": {},
     "output_type": "display_data"
    }
   ],
   "source": [
    "askOllama(event.prompt['gr'])"
   ]
  },
  {
   "cell_type": "code",
   "execution_count": 7,
   "id": "90065490-e86b-4add-bfd3-85534d0c8d75",
   "metadata": {},
   "outputs": [
    {
     "data": {
      "text/plain": [
       "{'summary': 'μάθημα γιόγκα',\n",
       " 'start': {'dateTime': \"2025-02-10T03:57:00+02:00', 'timeZone':'Eastern European Time',\"},\n",
       " 'end': {'dateTime': \"2025-06-30T04:57:00+02:00', 'timeZone':'Eastern European Time',\"},\n",
       " 'recurrence': ['RRULE:FREQ=WEEKLY;BYDAY=MO,TH;UNTIL=20250630T000000Z']}"
      ]
     },
     "metadata": {},
     "output_type": "display_data"
    }
   ],
   "source": [
    "display(correct_response['gr'])"
   ]
  },
  {
   "cell_type": "code",
   "execution_count": 5,
   "id": "aa6cca2c-f083-4b19-8926-af377dc537f8",
   "metadata": {},
   "outputs": [
    {
     "data": {
      "text/plain": [
       "'```json\\n{\\n  \"start\": {\\n    \"dateTime\": \"2023-11-11T11:36:00+00:00\"\\n  },\\n  \"end\": {\\n    \"dateTime\": \"2023-11-11T12:36:00+00:00\"\\n  },\\n  \"summary\": \"Συνάντηση γονέων-καθηγητών\",\\n  \"recurrence\": [\\n    \"RRULE:FREQ=MONTHLY;BYMONTHDAY=13\"\\n  ]\\n}\\n```'"
      ]
     },
     "metadata": {},
     "output_type": "display_data"
    }
   ],
   "source": [
    "getOpenAIResponse(event.prompt['gr'])"
   ]
  },
  {
   "cell_type": "code",
   "execution_count": 6,
   "id": "6abdc3de-fe88-4506-8238-8bab663fb45d",
   "metadata": {},
   "outputs": [
    {
     "data": {
      "text/plain": [
       "'```json\\n{\\n  \"start\": {\\n    \"dateTime\": \"2023-11-24T00:00:00\",\\n    \"timeZone\": \"UTC\"\\n  },\\n  \"end\": {\\n    \"dateTime\": \"2023-11-24T01:00:00\",\\n    \"timeZone\": \"UTC\"\\n  },\\n  \"summary\": \"Parent-Teacher Meeting\",\\n  \"recurrence\": [\\n    \"RRULE:FREQ=MONTHLY;BYMONTHDAY=13\"\\n  ]\\n}\\n```'"
      ]
     },
     "metadata": {},
     "output_type": "display_data"
    }
   ],
   "source": [
    "getOpenAIResponse(event.prompt['en']) # 4-o"
   ]
  },
  {
   "cell_type": "code",
   "execution_count": 7,
   "id": "bff39550-69dd-40c6-ba15-5ec3919d1c55",
   "metadata": {},
   "outputs": [
    {
     "data": {
      "text/plain": [
       "'```json\\n{\\n  \"start\": {\\n    \"dateTime\": \"2023-11-11T11:36:00\",\\n    \"timeZone\": \"UTC\"\\n  },\\n  \"end\": {\\n    \"dateTime\": \"2023-11-11T12:36:00\",\\n    \"timeZone\": \"UTC\"\\n  },\\n  \"summary\": \"Συνάντηση γονέων-καθηγητών\",\\n  \"recurrence\": \"RRULE:FREQ=MONTHLY;BYMONTHDAY=11\"\\n}\\n```'"
      ]
     },
     "metadata": {},
     "output_type": "display_data"
    }
   ],
   "source": [
    "getOpenAIResponse(event.prompt['gr'])"
   ]
  },
  {
   "cell_type": "code",
   "execution_count": 8,
   "id": "baaaa983-6914-4467-8ee3-a05f5f5b3f57",
   "metadata": {},
   "outputs": [
    {
     "data": {
      "text/plain": [
       "'```json\\n{\\n  \"start\": {\\n    \"dateTime\": \"2023-11-24T09:00:00\",\\n    \"timeZone\": \"UTC\"\\n  },\\n  \"end\": {\\n    \"dateTime\": \"2023-11-24T10:00:00\",\\n    \"timeZone\": \"UTC\"\\n  },\\n  \"summary\": \"Parent-Teacher Meeting\",\\n  \"recurrence\": [\\n    \"RRULE:FREQ=MONTHLY;BYMONTHDAY=13\"\\n  ]\\n}\\n```'"
      ]
     },
     "metadata": {},
     "output_type": "display_data"
    }
   ],
   "source": [
    "getOpenAIResponse(event.prompt['en']) # o1"
   ]
  },
  {
   "cell_type": "code",
   "execution_count": 9,
   "id": "8badaab2-97cb-4d89-8d0c-159b186056e5",
   "metadata": {},
   "outputs": [
    {
     "data": {
      "text/plain": [
       "'```json\\n{\\n  \"summary\": \"Συνάντηση γονέων-καθηγητών\",\\n  \"start\": {\\n    \"dateTime\": \"2023-11-11T11:36:00\",\\n    \"timeZone\": \"Europe/Athens\"\\n  },\\n  \"end\": {\\n    \"dateTime\": \"2023-11-11T12:36:00\",\\n    \"timeZone\": \"Europe/Athens\"\\n  },\\n  \"recurrence\": [\\n    \"RRULE:FREQ=MONTHLY;BYMONTHDAY=13\"\\n  ]\\n}\\n```'"
      ]
     },
     "metadata": {},
     "output_type": "display_data"
    }
   ],
   "source": [
    "getOpenAIResponse(event.prompt['gr'])"
   ]
  },
  {
   "cell_type": "code",
   "execution_count": null,
   "id": "546c904e-3ad1-40dd-9d73-104a8e0909c9",
   "metadata": {},
   "outputs": [],
   "source": []
  }
 ],
 "metadata": {
  "kernelspec": {
   "display_name": "Python 3 (ipykernel)",
   "language": "python",
   "name": "python3"
  },
  "language_info": {
   "codemirror_mode": {
    "name": "ipython",
    "version": 3
   },
   "file_extension": ".py",
   "mimetype": "text/x-python",
   "name": "python",
   "nbconvert_exporter": "python",
   "pygments_lexer": "ipython3",
   "version": "3.11.11"
  }
 },
 "nbformat": 4,
 "nbformat_minor": 5
}
